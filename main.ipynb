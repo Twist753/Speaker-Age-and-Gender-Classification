{
  "cells": [
    {
      "cell_type": "markdown",
      "metadata": {
        "id": "T_G2mrvnt4Cj"
      },
      "source": [
        "## Dataset Generator\n",
        "Create csv dataset from given tsv files and add path of audio clips"
      ]
    },
    {
      "cell_type": "code",
      "execution_count": 1,
      "metadata": {
        "id": "QeKtfTKDsRcC"
      },
      "outputs": [],
      "source": [
        "import os\n",
        "import pandas as pd"
      ]
    },
    {
      "cell_type": "code",
      "execution_count": 2,
      "metadata": {
        "id": "NCV1Sm7BsSVe"
      },
      "outputs": [],
      "source": [
        "# Provide path to \"data\" folder inside \"speech_project_main\"\n",
        "data_dir = \"E:\\College\\Codes\\Python\\Machine Learning\\Speech Processing\\speech_project_main\\data\"   #Provide path\n",
        "df_list = []\n",
        "for i in range(3):\n",
        "    tsv_path = os.path.join(data_dir, f\"validated{i+1}.tsv\")\n",
        "    clips_path = os.path.join(data_dir, f\"clips{i+1}\")\n",
        "\n",
        "    temp_df = pd.read_csv(tsv_path, sep=\"\\t\", usecols=[\"path\", \"gender\", \"age\"])\n",
        "    temp_df[\"path\"] = temp_df[\"path\"].apply(lambda x: os.path.join(clips_path, x))\n",
        "    df_list.append(temp_df)\n",
        "\n",
        "# Combine all TSVs\n",
        "df = pd.concat(df_list, ignore_index=True)\n"
      ]
    },
    {
      "cell_type": "code",
      "execution_count": 3,
      "metadata": {
        "colab": {
          "base_uri": "https://localhost:8080/",
          "height": 206
        },
        "id": "sbFbbAMBsToX",
        "outputId": "96e7a1ba-58c6-4577-cc4a-ba41cd79c83b"
      },
      "outputs": [
        {
          "data": {
            "text/html": [
              "<div>\n",
              "<style scoped>\n",
              "    .dataframe tbody tr th:only-of-type {\n",
              "        vertical-align: middle;\n",
              "    }\n",
              "\n",
              "    .dataframe tbody tr th {\n",
              "        vertical-align: top;\n",
              "    }\n",
              "\n",
              "    .dataframe thead th {\n",
              "        text-align: right;\n",
              "    }\n",
              "</style>\n",
              "<table border=\"1\" class=\"dataframe\">\n",
              "  <thead>\n",
              "    <tr style=\"text-align: right;\">\n",
              "      <th></th>\n",
              "      <th>path</th>\n",
              "      <th>age</th>\n",
              "      <th>gender</th>\n",
              "    </tr>\n",
              "  </thead>\n",
              "  <tbody>\n",
              "    <tr>\n",
              "      <th>0</th>\n",
              "      <td>E:\\College\\Codes\\Python\\Machine Learning\\Speec...</td>\n",
              "      <td>twenties</td>\n",
              "      <td>male</td>\n",
              "    </tr>\n",
              "    <tr>\n",
              "      <th>1</th>\n",
              "      <td>E:\\College\\Codes\\Python\\Machine Learning\\Speec...</td>\n",
              "      <td>NaN</td>\n",
              "      <td>NaN</td>\n",
              "    </tr>\n",
              "    <tr>\n",
              "      <th>2</th>\n",
              "      <td>E:\\College\\Codes\\Python\\Machine Learning\\Speec...</td>\n",
              "      <td>NaN</td>\n",
              "      <td>NaN</td>\n",
              "    </tr>\n",
              "    <tr>\n",
              "      <th>3</th>\n",
              "      <td>E:\\College\\Codes\\Python\\Machine Learning\\Speec...</td>\n",
              "      <td>NaN</td>\n",
              "      <td>NaN</td>\n",
              "    </tr>\n",
              "    <tr>\n",
              "      <th>4</th>\n",
              "      <td>E:\\College\\Codes\\Python\\Machine Learning\\Speec...</td>\n",
              "      <td>NaN</td>\n",
              "      <td>NaN</td>\n",
              "    </tr>\n",
              "  </tbody>\n",
              "</table>\n",
              "</div>"
            ],
            "text/plain": [
              "                                                path       age gender\n",
              "0  E:\\College\\Codes\\Python\\Machine Learning\\Speec...  twenties   male\n",
              "1  E:\\College\\Codes\\Python\\Machine Learning\\Speec...       NaN    NaN\n",
              "2  E:\\College\\Codes\\Python\\Machine Learning\\Speec...       NaN    NaN\n",
              "3  E:\\College\\Codes\\Python\\Machine Learning\\Speec...       NaN    NaN\n",
              "4  E:\\College\\Codes\\Python\\Machine Learning\\Speec...       NaN    NaN"
            ]
          },
          "execution_count": 3,
          "metadata": {},
          "output_type": "execute_result"
        }
      ],
      "source": [
        "df.head()"
      ]
    },
    {
      "cell_type": "code",
      "execution_count": 4,
      "metadata": {
        "colab": {
          "base_uri": "https://localhost:8080/"
        },
        "id": "LOxbR8BasUxw",
        "outputId": "31088c37-7515-424f-c5b5-d1a94b5826c3"
      },
      "outputs": [
        {
          "name": "stdout",
          "output_type": "stream",
          "text": [
            "['male' nan 'female' 'other' 'male_masculine' 'female_feminine']\n",
            "['twenties' nan 'fourties' 'teens' 'thirties' 'fifties' 'sixties']\n"
          ]
        }
      ],
      "source": [
        "print(df.gender.unique())\n",
        "print(df.age.unique())"
      ]
    },
    {
      "cell_type": "code",
      "execution_count": 5,
      "metadata": {
        "id": "Q3FP5FCtsWnJ"
      },
      "outputs": [],
      "source": [
        "gender_mapping = {\n",
        "    'male': 0,\n",
        "    'male_masculine': 0,\n",
        "    'female': 1,\n",
        "    'female_feminine': 1\n",
        "}\n",
        "\n",
        "df['gender_label'] = df['gender'].map(gender_mapping)\n",
        "df = df[df['gender_label'].notna()]\n",
        "df = df[df['age'].notna()]\n",
        "df['gender_label'] = df['gender_label'].astype(int)"
      ]
    },
    {
      "cell_type": "code",
      "execution_count": 6,
      "metadata": {
        "colab": {
          "base_uri": "https://localhost:8080/"
        },
        "id": "qCYZW38wsmod",
        "outputId": "5d325549-af3a-4d41-dfa3-1eb95e45c462"
      },
      "outputs": [
        {
          "name": "stdout",
          "output_type": "stream",
          "text": [
            "final_csv_dataset.csv created.\n"
          ]
        }
      ],
      "source": [
        "# to CSV\n",
        "csv_df = df[['path', 'gender_label', 'age']].rename(columns={\n",
        "    'path' : 'file_path',\n",
        "    'gender_label': 'gender',\n",
        "    'age': 'age_group'\n",
        "})\n",
        "\n",
        "# Separate genders\n",
        "male_df = csv_df[csv_df['gender'] == 0]\n",
        "female_df = csv_df[csv_df['gender'] == 1]\n",
        "\n",
        "# downsample male = 2 * female\n",
        "desired_male_count = 2 * len(female_df)\n",
        "male_downsampled = male_df.sample(n=desired_male_count, random_state=42)\n",
        "\n",
        "# Combine and shuffle\n",
        "reduced_imbalance_df = pd.concat([male_downsampled, female_df]).sample(frac=1, random_state=42)\n",
        "\n",
        "# Save to CSV\n",
        "reduced_imbalance_df.to_csv('final_csv_dataset.csv', index=False)\n",
        "print('final_csv_dataset.csv created.')"
      ]
    },
    {
      "cell_type": "markdown",
      "metadata": {
        "id": "crS0tU6zsvCT"
      },
      "source": [
        "## Model Development"
      ]
    },
    {
      "cell_type": "code",
      "execution_count": 7,
      "metadata": {
        "id": "e1gbkO8jsyOK"
      },
      "outputs": [],
      "source": [
        "import pandas as pd\n",
        "import librosa\n",
        "import numpy as np\n",
        "from tqdm import tqdm\n",
        "from sklearn.preprocessing import LabelEncoder\n",
        "from tensorflow.keras.utils import to_categorical\n",
        "import matplotlib.pyplot as plt\n",
        "import seaborn as sns"
      ]
    },
    {
      "cell_type": "code",
      "execution_count": 30,
      "metadata": {
        "colab": {
          "base_uri": "https://localhost:8080/",
          "height": 206
        },
        "id": "3KSaKt-Ds6rh",
        "outputId": "9a530ab1-96dc-4421-e1dc-c02a2c7f2f26"
      },
      "outputs": [
        {
          "data": {
            "text/html": [
              "<div>\n",
              "<style scoped>\n",
              "    .dataframe tbody tr th:only-of-type {\n",
              "        vertical-align: middle;\n",
              "    }\n",
              "\n",
              "    .dataframe tbody tr th {\n",
              "        vertical-align: top;\n",
              "    }\n",
              "\n",
              "    .dataframe thead th {\n",
              "        text-align: right;\n",
              "    }\n",
              "</style>\n",
              "<table border=\"1\" class=\"dataframe\">\n",
              "  <thead>\n",
              "    <tr style=\"text-align: right;\">\n",
              "      <th></th>\n",
              "      <th>file_path</th>\n",
              "      <th>gender</th>\n",
              "      <th>age_group</th>\n",
              "    </tr>\n",
              "  </thead>\n",
              "  <tbody>\n",
              "    <tr>\n",
              "      <th>0</th>\n",
              "      <td>E:\\College\\Codes\\Python\\Machine Learning\\Speec...</td>\n",
              "      <td>0</td>\n",
              "      <td>thirties</td>\n",
              "    </tr>\n",
              "    <tr>\n",
              "      <th>1</th>\n",
              "      <td>E:\\College\\Codes\\Python\\Machine Learning\\Speec...</td>\n",
              "      <td>0</td>\n",
              "      <td>twenties</td>\n",
              "    </tr>\n",
              "    <tr>\n",
              "      <th>2</th>\n",
              "      <td>E:\\College\\Codes\\Python\\Machine Learning\\Speec...</td>\n",
              "      <td>0</td>\n",
              "      <td>twenties</td>\n",
              "    </tr>\n",
              "    <tr>\n",
              "      <th>3</th>\n",
              "      <td>E:\\College\\Codes\\Python\\Machine Learning\\Speec...</td>\n",
              "      <td>0</td>\n",
              "      <td>twenties</td>\n",
              "    </tr>\n",
              "    <tr>\n",
              "      <th>4</th>\n",
              "      <td>E:\\College\\Codes\\Python\\Machine Learning\\Speec...</td>\n",
              "      <td>1</td>\n",
              "      <td>twenties</td>\n",
              "    </tr>\n",
              "  </tbody>\n",
              "</table>\n",
              "</div>"
            ],
            "text/plain": [
              "                                           file_path  gender age_group\n",
              "0  E:\\College\\Codes\\Python\\Machine Learning\\Speec...       0  thirties\n",
              "1  E:\\College\\Codes\\Python\\Machine Learning\\Speec...       0  twenties\n",
              "2  E:\\College\\Codes\\Python\\Machine Learning\\Speec...       0  twenties\n",
              "3  E:\\College\\Codes\\Python\\Machine Learning\\Speec...       0  twenties\n",
              "4  E:\\College\\Codes\\Python\\Machine Learning\\Speec...       1  twenties"
            ]
          },
          "execution_count": 30,
          "metadata": {},
          "output_type": "execute_result"
        }
      ],
      "source": [
        "df = pd.read_csv(\"final_csv_dataset.csv\")  # replace with your actual CSV path\n",
        "df.head()"
      ]
    },
    {
      "cell_type": "code",
      "execution_count": 31,
      "metadata": {
        "colab": {
          "base_uri": "https://localhost:8080/",
          "height": 797
        },
        "id": "TA60--cUs7jb",
        "outputId": "63451c0a-fb68-448e-90c2-0213e2678cec"
      },
      "outputs": [
        {
          "data": {
            "image/png": "[encoded data removed]",
            "text/plain": [
              "<Figure size 600x400 with 1 Axes>"
            ]
          },
          "metadata": {},
          "output_type": "display_data"
        },
        {
          "data": {
            "image/png": "[encoded data removed]",
            "text/plain": [
              "<Figure size 800x400 with 1 Axes>"
            ]
          },
          "metadata": {},
          "output_type": "display_data"
        }
      ],
      "source": [
        "# Gender distribution\n",
        "plt.figure(figsize=(6,4))\n",
        "sns.countplot(data=df, x='gender')\n",
        "plt.title(\"Gender Distribution\")\n",
        "plt.xticks(ticks=[0,1], labels=[\"male\", \"female\"])\n",
        "plt.xlabel(\"Gender\")\n",
        "plt.ylabel(\"Count\")\n",
        "plt.tight_layout()\n",
        "plt.show()\n",
        "\n",
        "# Age group distribution\n",
        "plt.figure(figsize=(8,4))\n",
        "sns.countplot(data=df, x='age_group')\n",
        "plt.title(\"Age Group Distribution\")\n",
        "plt.xlabel(\"Age Group\")\n",
        "plt.ylabel(\"Count\")\n",
        "plt.tight_layout()\n",
        "plt.show()"
      ]
    },
    {
      "cell_type": "code",
      "execution_count": 10,
      "metadata": {
        "id": "0azDvtGvs91B"
      },
      "outputs": [],
      "source": [
        "# Feature extraction defination using MFCC\n",
        "def extract_features(file_path, sr=44100):\n",
        "    y, _ = librosa.load(file_path, sr=sr, mono=True)\n",
        "\n",
        "    # 13 MFCCs\n",
        "    mfccs = librosa.feature.mfcc(y=y, sr=sr, n_mfcc=13)\n",
        "\n",
        "    # 13 delta MFCCs\n",
        "    delta_mfccs = librosa.feature.delta(mfccs)\n",
        "\n",
        "    # 13 delta-delta MFCCs\n",
        "    delta2_mfccs = librosa.feature.delta(mfccs, order=2)\n",
        "\n",
        "    # Pitch & Magnitude\n",
        "    pitches, magnitudes = librosa.piptrack(y=y, sr=sr)\n",
        "    pitch = np.max(pitches)\n",
        "    magnitude = np.max(magnitudes)\n",
        "\n",
        "    # Stack features: shape = (time_steps, features)\n",
        "    features = np.vstack((mfccs, delta_mfccs, delta2_mfccs))\n",
        "\n",
        "    # Transpose to shape (time_steps, 39)\n",
        "    features = features.T\n",
        "\n",
        "    # Add pitch & magnitude to each frame\n",
        "    pitch_mag = np.full((features.shape[0], 2), [pitch, magnitude])\n",
        "    full_features = np.hstack((features, pitch_mag))  # (time_steps, 41)\n",
        "\n",
        "    return full_features"
      ]
    },
    {
      "cell_type": "code",
      "execution_count": 11,
      "metadata": {
        "id": "CwlWJFjutBhe"
      },
      "outputs": [],
      "source": [
        "# Encode age\n",
        "age_group_map = {\n",
        "    'teens': 0,\n",
        "    'twenties': 1,\n",
        "    'thirties': 2,\n",
        "    'fourties': 3,\n",
        "    'fifties': 4,\n",
        "    'sixties': 5\n",
        "}\n",
        "\n",
        "df['age_group'] = df['age_group'].map(age_group_map)"
      ]
    },
    {
      "cell_type": "code",
      "execution_count": 12,
      "metadata": {
        "colab": {
          "base_uri": "https://localhost:8080/"
        },
        "id": "L3niKv0WtGtk",
        "outputId": "092fc6af-ec4f-4f9a-e1a2-499962bdf00b"
      },
      "outputs": [
        {
          "name": "stderr",
          "output_type": "stream",
          "text": [
            "100%|██████████| 3837/3837 [03:19<00:00, 19.22it/s]\n"
          ]
        }
      ],
      "source": [
        "# Extract features\n",
        "X = []\n",
        "y_gender = []\n",
        "y_age = []\n",
        "\n",
        "for _, row in tqdm(df.iterrows(), total=len(df)):\n",
        "    features = extract_features(row['file_path'])\n",
        "\n",
        "    # Optional: pad/truncate to fixed length, e.g., 200 time steps\n",
        "    max_len = 200\n",
        "    if features.shape[0] < max_len:\n",
        "        pad_width = max_len - features.shape[0]\n",
        "        features = np.pad(features, ((0, pad_width), (0, 0)), mode='constant')\n",
        "    else:\n",
        "        features = features[:max_len, :]\n",
        "\n",
        "    X.append(features)\n",
        "    y_gender.append(row['gender'])\n",
        "    y_age.append(row['age_group'])\n",
        "\n",
        "X = np.array(X)\n",
        "y_gender = to_categorical(y_gender, 2)\n",
        "y_age = to_categorical(y_age)"
      ]
    },
    {
      "cell_type": "code",
      "execution_count": 13,
      "metadata": {
        "id": "0dXDi6we3GAF"
      },
      "outputs": [],
      "source": [
        "from sklearn.model_selection import train_test_split\n",
        "from sklearn.preprocessing import StandardScaler\n",
        "\n",
        "# Flatten time-major axis for normalization\n",
        "X_flat = X.reshape(-1, X.shape[-1])\n",
        "scaler = StandardScaler()\n",
        "X_flat = scaler.fit_transform(X_flat)\n",
        "X = X_flat.reshape(X.shape)\n",
        "\n",
        "# Split data\n",
        "X_train, X_val, y_gender_train, y_gender_val, y_age_train, y_age_val = train_test_split(\n",
        "    X, y_gender, y_age, test_size=0.2, random_state=42)\n"
      ]
    },
    {
      "cell_type": "code",
      "execution_count": 14,
      "metadata": {
        "colab": {
          "base_uri": "https://localhost:8080/",
          "height": 691
        },
        "id": "h_E_btz7tS9e",
        "outputId": "792b6c3f-71cb-4417-8140-7740a6472935"
      },
      "outputs": [
        {
          "name": "stdout",
          "output_type": "stream",
          "text": [
            "Model: \"sequential\"\n",
            "_________________________________________________________________\n",
            " Layer (type)                Output Shape              Param #   \n",
            "=================================================================\n",
            " lstm (LSTM)                 (None, 200, 100)          56800     \n",
            "                                                                 \n",
            " dropout (Dropout)           (None, 200, 100)          0         \n",
            "                                                                 \n",
            " lstm_1 (LSTM)               (None, 100)               80400     \n",
            "                                                                 \n",
            " dropout_1 (Dropout)         (None, 100)               0         \n",
            "                                                                 \n",
            " dense (Dense)               (None, 2)                 202       \n",
            "                                                                 \n",
            "=================================================================\n",
            "Total params: 137,402\n",
            "Trainable params: 137,402\n",
            "Non-trainable params: 0\n",
            "_________________________________________________________________\n",
            "Epoch 1/10\n",
            "24/24 [==============================] - 15s 438ms/step - loss: 0.4448 - accuracy: 0.8371 - val_loss: 0.3433 - val_accuracy: 0.9206\n",
            "Epoch 2/10\n",
            "24/24 [==============================] - 9s 368ms/step - loss: 0.2417 - accuracy: 0.9436 - val_loss: 0.2258 - val_accuracy: 0.9609\n",
            "Epoch 3/10\n",
            "24/24 [==============================] - 9s 387ms/step - loss: 0.2221 - accuracy: 0.9557 - val_loss: 0.4877 - val_accuracy: 0.8789\n",
            "Epoch 4/10\n",
            "24/24 [==============================] - 10s 410ms/step - loss: 0.3459 - accuracy: 0.9127 - val_loss: 0.2374 - val_accuracy: 0.9453\n",
            "Epoch 5/10\n",
            "24/24 [==============================] - 10s 407ms/step - loss: 0.1994 - accuracy: 0.9589 - val_loss: 0.1987 - val_accuracy: 0.9635\n",
            "Epoch 6/10\n",
            "24/24 [==============================] - 9s 386ms/step - loss: 0.1574 - accuracy: 0.9749 - val_loss: 0.1933 - val_accuracy: 0.9688\n",
            "Epoch 7/10\n",
            "24/24 [==============================] - 9s 369ms/step - loss: 0.1375 - accuracy: 0.9840 - val_loss: 0.2036 - val_accuracy: 0.9674\n",
            "Epoch 8/10\n",
            "24/24 [==============================] - 10s 400ms/step - loss: 0.1321 - accuracy: 0.9840 - val_loss: 0.1796 - val_accuracy: 0.9727\n",
            "Epoch 9/10\n",
            "24/24 [==============================] - 9s 385ms/step - loss: 0.1192 - accuracy: 0.9879 - val_loss: 0.1662 - val_accuracy: 0.9779\n",
            "Epoch 10/10\n",
            "24/24 [==============================] - 9s 389ms/step - loss: 0.1125 - accuracy: 0.9902 - val_loss: 0.1613 - val_accuracy: 0.9779\n"
          ]
        }
      ],
      "source": [
        "from tensorflow.keras.models import Sequential\n",
        "from tensorflow.keras.layers import LSTM, Dense, Dropout\n",
        "from tensorflow.keras.regularizers import l2\n",
        "from tensorflow.keras.callbacks import EarlyStopping\n",
        "\n",
        "def build_gender_model(input_shape):\n",
        "    model = Sequential([\n",
        "        LSTM(100, input_shape=input_shape, return_sequences=True, kernel_regularizer=l2(0.001)),\n",
        "        Dropout(0.3),\n",
        "        LSTM(100),\n",
        "        Dropout(0.2),\n",
        "        Dense(2, activation='softmax', kernel_regularizer=l2(0.001))\n",
        "    ])\n",
        "    model.compile(optimizer='adam', loss='categorical_crossentropy', metrics=['accuracy'])\n",
        "    return model\n",
        "\n",
        "early_stop = EarlyStopping(monitor='val_loss', patience=3, restore_best_weights=True)\n",
        "\n",
        "gender_model = build_gender_model((X.shape[1], X.shape[2]))\n",
        "gender_model.summary()\n",
        "\n",
        "\n",
        "# Model Training\n",
        "gender_history = gender_model.fit(\n",
        "    X_train, y_gender_train,\n",
        "    validation_data=(X_val, y_gender_val),\n",
        "    epochs=10,\n",
        "    batch_size=128,\n",
        "    callbacks=[early_stop]\n",
        ")"
      ]
    },
    {
      "cell_type": "code",
      "execution_count": 15,
      "metadata": {
        "colab": {
          "base_uri": "https://localhost:8080/",
          "height": 1000
        },
        "id": "Xa1VETuHtTui",
        "outputId": "233c6751-070b-473a-983a-82fe1d407164"
      },
      "outputs": [
        {
          "name": "stdout",
          "output_type": "stream",
          "text": [
            "Model: \"sequential_1\"\n",
            "_________________________________________________________________\n",
            " Layer (type)                Output Shape              Param #   \n",
            "=================================================================\n",
            " lstm_2 (LSTM)               (None, 200, 128)          87040     \n",
            "                                                                 \n",
            " dropout_2 (Dropout)         (None, 200, 128)          0         \n",
            "                                                                 \n",
            " lstm_3 (LSTM)               (None, 128)               131584    \n",
            "                                                                 \n",
            " dropout_3 (Dropout)         (None, 128)               0         \n",
            "                                                                 \n",
            " dense_1 (Dense)             (None, 128)               16512     \n",
            "                                                                 \n",
            " dense_2 (Dense)             (None, 6)                 774       \n",
            "                                                                 \n",
            "=================================================================\n",
            "Total params: 235,910\n",
            "Trainable params: 235,910\n",
            "Non-trainable params: 0\n",
            "_________________________________________________________________\n",
            "Epoch 1/30\n",
            "24/24 [==============================] - 18s 566ms/step - loss: 1.2809 - accuracy: 0.6064 - val_loss: 0.9030 - val_accuracy: 0.7500\n",
            "Epoch 2/30\n",
            "24/24 [==============================] - 12s 520ms/step - loss: 0.7168 - accuracy: 0.8143 - val_loss: 0.7918 - val_accuracy: 0.8047\n",
            "Epoch 3/30\n",
            "24/24 [==============================] - 12s 498ms/step - loss: 0.6140 - accuracy: 0.8514 - val_loss: 0.6552 - val_accuracy: 0.8229\n",
            "Epoch 4/30\n",
            "24/24 [==============================] - 12s 498ms/step - loss: 0.5063 - accuracy: 0.8814 - val_loss: 0.5499 - val_accuracy: 0.8685\n",
            "Epoch 5/30\n",
            "24/24 [==============================] - 12s 492ms/step - loss: 0.4816 - accuracy: 0.8827 - val_loss: 0.5487 - val_accuracy: 0.8516\n",
            "Epoch 6/30\n",
            "24/24 [==============================] - 12s 503ms/step - loss: 0.4345 - accuracy: 0.9013 - val_loss: 0.5016 - val_accuracy: 0.8763\n",
            "Epoch 7/30\n",
            "24/24 [==============================] - 12s 514ms/step - loss: 0.3774 - accuracy: 0.9159 - val_loss: 0.4551 - val_accuracy: 0.8919\n",
            "Epoch 8/30\n",
            "24/24 [==============================] - 12s 489ms/step - loss: 0.3518 - accuracy: 0.9218 - val_loss: 0.4337 - val_accuracy: 0.9010\n",
            "Epoch 9/30\n",
            "24/24 [==============================] - 11s 466ms/step - loss: 0.2932 - accuracy: 0.9387 - val_loss: 0.4078 - val_accuracy: 0.8958\n",
            "Epoch 10/30\n",
            "24/24 [==============================] - 12s 487ms/step - loss: 0.2774 - accuracy: 0.9436 - val_loss: 0.4374 - val_accuracy: 0.9036\n",
            "Epoch 11/30\n",
            "24/24 [==============================] - 11s 467ms/step - loss: 0.2633 - accuracy: 0.9430 - val_loss: 0.3407 - val_accuracy: 0.9154\n",
            "Epoch 12/30\n",
            "24/24 [==============================] - 12s 496ms/step - loss: 0.2117 - accuracy: 0.9586 - val_loss: 0.3173 - val_accuracy: 0.9232\n",
            "Epoch 13/30\n",
            "24/24 [==============================] - 14s 571ms/step - loss: 0.2167 - accuracy: 0.9576 - val_loss: 0.4526 - val_accuracy: 0.8971\n",
            "Epoch 14/30\n",
            "24/24 [==============================] - 12s 485ms/step - loss: 0.2354 - accuracy: 0.9449 - val_loss: 0.3619 - val_accuracy: 0.9141\n",
            "Epoch 15/30\n",
            "24/24 [==============================] - 12s 506ms/step - loss: 0.1795 - accuracy: 0.9612 - val_loss: 0.3246 - val_accuracy: 0.9232\n",
            "Epoch 16/30\n",
            "24/24 [==============================] - 12s 500ms/step - loss: 0.1466 - accuracy: 0.9726 - val_loss: 0.3094 - val_accuracy: 0.9297\n",
            "Epoch 17/30\n",
            "24/24 [==============================] - 12s 495ms/step - loss: 0.1197 - accuracy: 0.9811 - val_loss: 0.3156 - val_accuracy: 0.9427\n",
            "Epoch 18/30\n",
            "24/24 [==============================] - 12s 517ms/step - loss: 0.1093 - accuracy: 0.9821 - val_loss: 0.3503 - val_accuracy: 0.9375\n",
            "Epoch 19/30\n",
            "24/24 [==============================] - 12s 497ms/step - loss: 0.1218 - accuracy: 0.9785 - val_loss: 0.3317 - val_accuracy: 0.9245\n",
            "Epoch 20/30\n",
            "24/24 [==============================] - 12s 488ms/step - loss: 0.1070 - accuracy: 0.9801 - val_loss: 0.3448 - val_accuracy: 0.9323\n",
            "Epoch 21/30\n",
            "24/24 [==============================] - 12s 490ms/step - loss: 0.0892 - accuracy: 0.9860 - val_loss: 0.3427 - val_accuracy: 0.9349\n"
          ]
        }
      ],
      "source": [
        "# Age model\n",
        "def build_age_model(input_shape, num_classes):\n",
        "    model = Sequential([\n",
        "        LSTM(128, return_sequences=True, input_shape=input_shape),\n",
        "        Dropout(0.3),\n",
        "        LSTM(128),\n",
        "        Dropout(0.3),\n",
        "        Dense(128, activation='relu', kernel_regularizer=l2(0.001)),\n",
        "        Dense(num_classes, activation='softmax')\n",
        "    ])\n",
        "    model.compile(optimizer='adam', loss='categorical_crossentropy', metrics=['accuracy'])\n",
        "    return model\n",
        "\n",
        "early_stop = EarlyStopping(monitor='val_loss', patience=5, restore_best_weights=True)\n",
        "\n",
        "age_model = build_age_model((X.shape[1], X.shape[2]), y_age.shape[1])\n",
        "age_model.summary()\n",
        "\n",
        "age_history = age_model.fit(X_train, y_age_train, validation_data=(X_val, y_age_val),\n",
        "              epochs=30, batch_size=128, callbacks=[early_stop])\n"
      ]
    },
    {
      "cell_type": "code",
      "execution_count": 16,
      "metadata": {
        "colab": {
          "base_uri": "https://localhost:8080/"
        },
        "id": "TKqwTQ-3tbYl",
        "outputId": "c625c644-a720-4510-fa49-e391eb74d645"
      },
      "outputs": [
        {
          "name": "stdout",
          "output_type": "stream",
          "text": [
            "24/24 [==============================] - 3s 59ms/step - loss: 0.1613 - accuracy: 0.9779\n",
            "24/24 [==============================] - 3s 67ms/step - loss: 0.3094 - accuracy: 0.9297\n",
            "Gender Model - Accuracy: 0.98, Loss: 0.16\n",
            "Age Model - Accuracy: 0.93, Loss: 0.31\n"
          ]
        }
      ],
      "source": [
        "# Evaluate models\n",
        "loss_g, acc_g = gender_model.evaluate(X_val, y_gender_val)\n",
        "loss_a, acc_a = age_model.evaluate(X_val, y_age_val)\n",
        "\n",
        "print(f\"Gender Model - Accuracy: {acc_g:.2f}, Loss: {loss_g:.2f}\")\n",
        "print(f\"Age Model - Accuracy: {acc_a:.2f}, Loss: {loss_a:.2f}\")\n"
      ]
    },
    {
      "cell_type": "code",
      "execution_count": 17,
      "metadata": {
        "colab": {
          "base_uri": "https://localhost:8080/",
          "height": 927
        },
        "id": "E5RCqKhetlhL",
        "outputId": "d2029fb2-7567-4abf-c524-8bc674613a70"
      },
      "outputs": [
        {
          "data": {
            "image/png": "[encoded data removed]",
            "text/plain": [
              "<Figure size 640x480 with 1 Axes>"
            ]
          },
          "metadata": {},
          "output_type": "display_data"
        },
        {
          "data": {
            "image/png": "[encoded data removed]",
            "text/plain": [
              "<Figure size 640x480 with 1 Axes>"
            ]
          },
          "metadata": {},
          "output_type": "display_data"
        }
      ],
      "source": [
        "# Plot accuracy (train vs validation)\n",
        "def plot_accuracy(history, title):\n",
        "    plt.plot(history.history['accuracy'], label='Train Accuracy')\n",
        "    plt.plot(history.history['val_accuracy'], label='Validation Accuracy')\n",
        "    plt.title(f'{title} Accuracy')\n",
        "    plt.xlabel('Epoch')\n",
        "    plt.ylabel('Accuracy')\n",
        "    plt.legend()\n",
        "    plt.grid(True)\n",
        "    plt.show()\n",
        "\n",
        "plot_accuracy(gender_history, 'Gender Classification')\n",
        "plot_accuracy(age_history, 'Age Classification')"
      ]
    },
    {
      "cell_type": "code",
      "execution_count": 18,
      "metadata": {
        "colab": {
          "base_uri": "https://localhost:8080/"
        },
        "id": "hkAX9XjFtnr4",
        "outputId": "78e7f59c-c60a-4ff5-8583-086b98ade61f"
      },
      "outputs": [
        {
          "name": "stdout",
          "output_type": "stream",
          "text": [
            "Models saved successfully!\n"
          ]
        }
      ],
      "source": [
        "# Save models\n",
        "gender_model.save('gender_lstm_model.h5')\n",
        "age_model.save('age_lstm_model.h5')\n",
        "\n",
        "print(\"Models saved successfully!\")"
      ]
    },
    {
      "cell_type": "markdown",
      "metadata": {
        "id": "ICJ_a1uytokV"
      },
      "source": [
        "## Real-Time prediction GUI\n",
        "The following code will only work if you are using GOOGLE COLAB\n",
        "\n",
        "To use the gui locally (i.e. on vscode or jupyter) run the last few commented cells instid"
      ]
    },
    {
      "cell_type": "code",
      "execution_count": 19,
      "metadata": {
        "colab": {
          "base_uri": "https://localhost:8080/"
        },
        "id": "hG-B27Zc6w6K",
        "outputId": "adc3f5f4-3ac1-4ed0-e8bb-6cf20377791e"
      },
      "outputs": [],
      "source": [
        "#!pip install gradio librosa soundfile"
      ]
    },
    {
      "cell_type": "code",
      "execution_count": 20,
      "metadata": {
        "id": "iRPzMypD1aKI"
      },
      "outputs": [
        {
          "name": "stderr",
          "output_type": "stream",
          "text": [
            "d:\\Anaconda\\envs\\Anaconda_CPU\\lib\\site-packages\\tqdm\\auto.py:21: TqdmWarning: IProgress not found. Please update jupyter and ipywidgets. See https://ipywidgets.readthedocs.io/en/stable/user_install.html\n",
            "  from .autonotebook import tqdm as notebook_tqdm\n"
          ]
        }
      ],
      "source": [
        "import gradio as gr\n",
        "import numpy as np\n",
        "import librosa\n",
        "import soundfile as sf\n",
        "from sklearn.preprocessing import StandardScaler\n",
        "from tensorflow.keras.models import load_model\n",
        "import os"
      ]
    },
    {
      "cell_type": "code",
      "execution_count": 21,
      "metadata": {
        "colab": {
          "base_uri": "https://localhost:8080/"
        },
        "id": "tLaq0fu_1edR",
        "outputId": "9e36e1fa-a254-4bd8-b75f-94b0dbda6645"
      },
      "outputs": [
        {
          "name": "stdout",
          "output_type": "stream",
          "text": [
            "Models loaded successfully!\n",
            "Gender model output shape: (None, 2)\n",
            "Age model output shape: (None, 6)\n"
          ]
        }
      ],
      "source": [
        "# PROVIDE PATH to both models if path not found\n",
        "gender_model = load_model('gender_lstm_model.h5')   #Provide path\n",
        "age_model = load_model('age_lstm_model.h5')\n",
        "\n",
        "# Verify models loaded correctly\n",
        "print(\"Models loaded successfully!\")\n",
        "print(f\"Gender model output shape: {gender_model.output_shape}\")\n",
        "print(f\"Age model output shape: {age_model.output_shape}\")"
      ]
    },
    {
      "cell_type": "code",
      "execution_count": 22,
      "metadata": {
        "id": "AA5LSdTN1ywj"
      },
      "outputs": [],
      "source": [
        "gender_labels = ['male', 'female']\n",
        "age_labels = ['teens', 'twenties', 'thirties', 'fourties', 'fifties', 'sixties']"
      ]
    },
    {
      "cell_type": "code",
      "execution_count": 23,
      "metadata": {
        "id": "eXTj7wIV13Vw"
      },
      "outputs": [],
      "source": [
        "def extract_features(file_path, sr=44100, max_len=200):\n",
        "    y, _ = librosa.load(file_path, sr=sr, mono=True)\n",
        "    mfccs = librosa.feature.mfcc(y=y, sr=sr, n_mfcc=13)\n",
        "    delta = librosa.feature.delta(mfccs)\n",
        "    delta2 = librosa.feature.delta(mfccs, order=2)\n",
        "    pitches, magnitudes = librosa.piptrack(y=y, sr=sr)\n",
        "    pitch = np.mean(pitches[pitches > 0]) if np.any(pitches > 0) else 0\n",
        "    magnitude = np.mean(magnitudes) if np.any(magnitudes > 0) else 0\n",
        "\n",
        "    features = np.vstack((mfccs, delta, delta2)).T\n",
        "    pitch_mag = np.full((features.shape[0], 2), [pitch, magnitude])\n",
        "    full_features = np.hstack((features, pitch_mag))\n",
        "\n",
        "    if full_features.shape[0] < max_len:\n",
        "        pad_width = max_len - full_features.shape[0]\n",
        "        full_features = np.pad(full_features, ((0, pad_width), (0, 0)), mode='constant')\n",
        "    else:\n",
        "        full_features = full_features[:max_len, :]\n",
        "\n",
        "    scaler = StandardScaler()\n",
        "    full_features = scaler.fit_transform(full_features)\n",
        "    return np.expand_dims(full_features, axis=0)"
      ]
    },
    {
      "cell_type": "code",
      "execution_count": 24,
      "metadata": {
        "id": "gxA7d73216q6"
      },
      "outputs": [],
      "source": [
        "def predict_from_audio(file_path):\n",
        "    print(f\"[DEBUG] File received: {file_path}\")\n",
        "\n",
        "    if file_path is None or not os.path.exists(file_path):\n",
        "        return \"No audio recorded. Please try again.\"\n",
        "\n",
        "    try:\n",
        "        features = extract_features(file_path)\n",
        "\n",
        "        gender_pred = gender_model.predict(features, verbose=0)[0]\n",
        "        age_pred = age_model.predict(features, verbose=0)[0]\n",
        "\n",
        "        gender = gender_labels[np.argmax(gender_pred)]\n",
        "        age = age_labels[np.argmax(age_pred)]\n",
        "\n",
        "        gender_conf = round(float(np.max(gender_pred)) * 100, 2)\n",
        "        age_conf = round(float(np.max(age_pred)) * 100, 2)\n",
        "\n",
        "        result = f\"Gender: {gender} (Confidence: {gender_conf}%)\\n\"\n",
        "        result += f\"Age group: {age} (Confidence: {age_conf}%)\"\n",
        "\n",
        "        return result\n",
        "\n",
        "    except Exception as e:\n",
        "        return f\"Error during prediction: {str(e)}\""
      ]
    },
    {
      "cell_type": "code",
      "execution_count": null,
      "metadata": {
        "colab": {
          "base_uri": "https://localhost:8080/",
          "height": 715
        },
        "id": "O5Pagnvt2AT-",
        "outputId": "f8a86cd7-5aba-4855-bbfd-f4cd9ae05c64"
      },
      "outputs": [],
      "source": [
        "# Gradio interface\n",
        "demo = gr.Interface(\n",
        "    fn=predict_from_audio,\n",
        "    inputs=gr.Audio(sources=[\"microphone\"], type=\"filepath\", label=\"Record your voice (5 sec max)\"),\n",
        "    outputs=\"text\",\n",
        "    title=\"Voice-Based Age & Gender Prediction\",\n",
        "    description=\"Speak clearly for 1–5 seconds, then submit. The system will predict your gender and approximate age group based on voice.\",\n",
        ")\n",
        "\n",
        "print('''Instructions:\n",
        "1) Click on the public URL below.\n",
        "2) Press RECORD on left side, it might ask for mic permissions so provide it.\n",
        "3) Record an audio of max 5s and press STOP. Then press SUBMIT to submit the audio. The result can be seen on right-side pane.\n",
        "\n",
        "NOTE - You might need to press SUBMIT a few times to get the result. :) ''')\n",
        "\n",
        "demo.launch(share=True)"
      ]
    }
  ],
  "metadata": {
    "accelerator": "GPU",
    "colab": {
      "gpuType": "T4",
      "provenance": []
    },
    "kernelspec": {
      "display_name": "Anaconda_CPU",
      "language": "python",
      "name": "python3"
    },
    "language_info": {
      "codemirror_mode": {
        "name": "ipython",
        "version": 3
      },
      "file_extension": ".py",
      "mimetype": "text/x-python",
      "name": "python",
      "nbconvert_exporter": "python",
      "pygments_lexer": "ipython3",
      "version": "3.10.13"
    }
  },
  "nbformat": 4,
  "nbformat_minor": 0
}
